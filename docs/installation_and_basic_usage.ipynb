{
 "cells": [
  {
   "cell_type": "markdown",
   "id": "79fd1116",
   "metadata": {},
   "source": [
    "# Tutorial: Working with this stactools subpackage\n",
    "\n",
    "Stactools ([docs](https://stactools.readthedocs.io/en/latest/), [source](https://github.com/stac-utils/stactools)) is a command line tool and library for working with [STAC](https://stacspec.org/), based on [PySTAC](https://github.com/stac-utils/pystac).\n",
    "\n",
    "[Stactools dataset packages](https://github.com/stactools-packages) are add-ons for stactools that provide STAC functionality for specific datasets, such as [Sentinel 2](https://github.com/stactools-packages/sentinel2) and [Landsat](https://github.com/stactools-packages/landsat).\n",
    "\n",
    "Stactools and its dataset packages can be accessed from the CLI or from within normal Python code. This notebook provides examples of both."
   ]
  },
  {
   "cell_type": "markdown",
   "id": "600b3d6f",
   "metadata": {},
   "source": [
    "## 1. Using this notebook\n",
    "\n",
    "The easiest way to use this notebook is to run it through `scripts/notebook`. This will create a Docker container already set up with the prerequisites and open the stactools dataset folder. Navigate to `docs/` to find this notebook.\n",
    "\n",
    "If you wish to use this notebook outside of the container (such as on mybinder.org) then please install the prerequisites using:"
   ]
  },
  {
   "cell_type": "code",
   "execution_count": null,
   "id": "995148ce",
   "metadata": {},
   "outputs": [],
   "source": [
    "# Install unreleased development version\n",
    "#!pip install git+https://github.com/stactools-packages/sentinel1.git@main\n",
    "\n",
    "# Install latest released version\n",
    "!pip install stactools-sentinel1"
   ]
  },
  {
   "cell_type": "markdown",
   "id": "d858e853",
   "metadata": {},
   "source": [
    "## 2. Using the stactools dataset package from the CLI"
   ]
  },
  {
   "cell_type": "markdown",
   "id": "4976b12e",
   "metadata": {},
   "source": [
    "The first thing we can do is check that the `stac` CLI tool is installed and explore the options. Notice the inclusion of the command for `sentinel1` dataset package in stactools now."
   ]
  },
  {
   "cell_type": "code",
   "execution_count": null,
   "id": "33f1d424",
   "metadata": {},
   "outputs": [],
   "source": [
    "!stac"
   ]
  },
  {
   "cell_type": "markdown",
   "id": "b091d4bc",
   "metadata": {},
   "source": [
    "You can now explore the STAC dataset package commands to ingest and describe the data"
   ]
  },
  {
   "cell_type": "code",
   "execution_count": null,
   "id": "323a2db4",
   "metadata": {},
   "outputs": [],
   "source": [
    "!stac sentinel1 --help"
   ]
  },
  {
   "cell_type": "markdown",
   "id": "231191da",
   "metadata": {},
   "source": [
    "And more specific help with an individual command."
   ]
  },
  {
   "cell_type": "code",
   "execution_count": null,
   "id": "7c820318",
   "metadata": {},
   "outputs": [],
   "source": [
    "!stac sentinel1 rtc create-item --help"
   ]
  },
  {
   "cell_type": "markdown",
   "id": "d0f479c8",
   "metadata": {},
   "source": [
    "Create a GRD STAC Item in current directory"
   ]
  },
  {
   "cell_type": "code",
   "execution_count": null,
   "id": "37bea60f",
   "metadata": {},
   "outputs": [],
   "source": [
    "SAFE = '../tests/data-files/grd/S1A_IW_GRDH_1SDV_20210809T173953_20210809T174018_039156_049F13_6FF8.SAFE'\n",
    "!stac sentinel1 grd create-item {SAFE} ./"
   ]
  },
  {
   "cell_type": "markdown",
   "id": "1f2c523f",
   "metadata": {},
   "source": [
    "Per best-practices, JSON names match the STAC item id"
   ]
  },
  {
   "cell_type": "code",
   "execution_count": null,
   "id": "97fb778a",
   "metadata": {},
   "outputs": [],
   "source": [
    "import os\n",
    "JSON = os.path.basename(SAFE).replace('SAFE','JSON')\n",
    "print(JSON,':\\n')\n",
    "!head {JSON}"
   ]
  },
  {
   "cell_type": "markdown",
   "id": "9139acc1",
   "metadata": {},
   "source": [
    "## 3. Using the stactools dataset package from within Python code"
   ]
  },
  {
   "cell_type": "markdown",
   "id": "bc289e45",
   "metadata": {},
   "source": [
    "So far we've used Jupyter Notebooks' IPython [line magic](https://ipython.readthedocs.io/en/stable/interactive/magics.html) to work with stactools packages on the command line, but it's also possible to use them within Python scripts. `stactools.sentinel1` functions return pystac objects https://pystac.readthedocs.io"
   ]
  },
  {
   "cell_type": "code",
   "execution_count": null,
   "id": "05365459",
   "metadata": {},
   "outputs": [],
   "source": [
    "from stactools.sentinel1.rtc import stac\n",
    "\n",
    "pystac_collection = stac.create_collection()"
   ]
  },
  {
   "cell_type": "markdown",
   "id": "5bc27d00",
   "metadata": {},
   "source": [
    "STAC metadata is JSON format, so you can always print that out to see details"
   ]
  },
  {
   "cell_type": "code",
   "execution_count": null,
   "id": "e9206dfb",
   "metadata": {},
   "outputs": [],
   "source": [
    "import json\n",
    "\n",
    "print(json.dumps(pystac_collection.to_dict(), indent=1))"
   ]
  },
  {
   "cell_type": "markdown",
   "id": "73aed85a",
   "metadata": {},
   "source": [
    "stactools sentinel1 rtc requires reading metadata from geotifs to create STAC item metadata"
   ]
  },
  {
   "cell_type": "code",
   "execution_count": null,
   "id": "1d02d098",
   "metadata": {},
   "outputs": [],
   "source": [
    "# set GDAL environment variables if reading from S3\n",
    "\n",
    "os.environ['GDAL_DISABLE_READDIR_ON_OPEN']='EMPTY_DIR'\n",
    "os.environ['AWS_NO_SIGN_REQUEST']='NO'\n",
    "os.environ['AWS_REGION']='us-west-2'\n",
    "\n",
    "pystac_item = stac.create_item('s3://sentinel-s1-rtc-indigo/tiles/RTC/1/IW/12/S/YJ/2016/S1B_20161121_12SYJ_ASC')"
   ]
  },
  {
   "cell_type": "code",
   "execution_count": null,
   "id": "4de2efc5",
   "metadata": {
    "scrolled": false
   },
   "outputs": [],
   "source": [
    "print(json.dumps(pystac_item.to_dict(), indent=1))"
   ]
  }
 ],
 "metadata": {
  "interpreter": {
   "hash": "c2bee1ab741e827a7e677add16aa73fb04c1c623305731aa61866545d78e2921"
  },
  "kernelspec": {
   "display_name": "Python 3 (ipykernel)",
   "language": "python",
   "name": "python3"
  },
  "language_info": {
   "codemirror_mode": {
    "name": "ipython",
    "version": 3
   },
   "file_extension": ".py",
   "mimetype": "text/x-python",
   "name": "python",
   "nbconvert_exporter": "python",
   "pygments_lexer": "ipython3",
   "version": "3.8.10"
  }
 },
 "nbformat": 4,
 "nbformat_minor": 5
}
